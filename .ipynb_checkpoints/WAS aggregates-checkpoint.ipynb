{
 "cells": [
  {
   "cell_type": "code",
   "execution_count": 1,
   "metadata": {
    "collapsed": true
   },
   "outputs": [],
   "source": [
    "import pandas as pd; import numpy as np; import matplotlib.pyplot as plt; import seaborn\n",
    "%matplotlib inline"
   ]
  },
  {
   "cell_type": "code",
   "execution_count": 2,
   "metadata": {
    "collapsed": true
   },
   "outputs": [],
   "source": [
    "wh1 = pd.read_stata(\"C:/Users/tew207/Desktop/PhD_Data/WAS/was_wave_1_hhold_eul.dta\")\n",
    "wp1 = pd.read_stata(\"C:/Users/tew207/Desktop/PhD_Data/WAS/was_wave_1_person_eul.dta\")\n",
    "w1 = pd.merge(wh1, wp1, on=\"casew1\")\n",
    "w1.sort('casew1', inplace=True)\n",
    "w1.reset_index(inplace=True)\n",
    "\n",
    "\n",
    "wh2 = pd.read_stata(\"C:/Users/tew207/Desktop/PhD_Data/WAS/was_wave_2_hhold_eul.dta\")\n",
    "wp2 = pd.read_stata(\"C:/Users/tew207/Desktop/PhD_Data/WAS/was_wave_2_person_eul.dta\", convert_categoricals=False)\n",
    "w2 = pd.merge(wh2, wp2, on=\"CASEW2\")\n",
    "w2.sort('CASEW2', inplace=True)\n",
    "w2.reset_index(inplace=True)\n",
    "\n",
    "\n",
    "wh3 = pd.read_stata(\"C:/Users/tew207/Desktop/PhD_Data/WAS/was_wave_3_hhold_eul.dta\")\n",
    "wp3 = pd.read_stata(\"C:/Users/tew207/Desktop/PhD_Data/WAS/was_wave_3_person_eul.dta\")\n",
    "w3 = pd.merge(wh3, wp3, on=\"CASEw3\")\n",
    "w3 = w3[~np.isnan(w3.w3xswgt_x)]\n",
    "w3.sort('CASEw3', inplace=True)\n",
    "w3.reset_index(inplace=True)"
   ]
  },
  {
   "cell_type": "markdown",
   "metadata": {},
   "source": [
    "The ONS gives household earned income as £27,700 for the 2006-2008 period ([Source](http://doc.ukdataservice.ac.uk/doc/6709/mrdoc/pdf/6709report_2006_2008.pdf)), so we'll use this to normalize wealth in the first wave.\n",
    "For waves 2 and 3, we need to adjust for the change in income in the years 2008 to 2012. The ONS has data on the growth in real average weekly earnings [here](http://www.ons.gov.uk/ons/rel/lms/labour-market-statistics/september-2015/dataset--earnings.html). Given that the index was 114.8 in 2006, 116.9 in 2007, and 117 in 2008, we can simply rebase the wage in 2008Q3 to the average value of the index in those years to get a smooth transition:"
   ]
  },
  {
   "cell_type": "code",
   "execution_count": 17,
   "metadata": {
    "collapsed": false
   },
   "outputs": [],
   "source": [
    "# This is 2008Q3 to 2012Q2\n",
    "quarterly_wages = np.array([116.3, 116.9, 117.1, 117.2, 116.1, 115.8, 115.5, 114.8, 115.1, \n",
    "                         114.5, 113.3, 112.5, 111.8, 111.6, 111.3, 111.4])/((114.8+116.9+117)/3.0)\n",
    "\n",
    "real_wage = np.zeros(len(quarterly_wages) + 1)\n",
    "real_wage[0] = 27700.0\n",
    "for i in range(1,len(real_wage)):\n",
    "    real_wage[i] = real_wage[0]*(quarterly_wages[i-1])\n",
    "    \n",
    "avg_wage_w2 = np.mean(real_wage[0:8])\n",
    "avg_wage_w3 = np.mean(real_wage[9:16])"
   ]
  },
  {
   "cell_type": "code",
   "execution_count": 20,
   "metadata": {
    "collapsed": false
   },
   "outputs": [],
   "source": [
    "w1['w_over_y'] = w1.TotWlthW1/27700.0\n",
    "w2['w_over_y'] = w2.TotWlthW2/avg_wage_w2\n",
    "w3['w_over_y'] = w3.TotWlthW3/avg_wage_w3"
   ]
  },
  {
   "cell_type": "code",
   "execution_count": 21,
   "metadata": {
    "collapsed": false
   },
   "outputs": [
    {
     "ename": "NameError",
     "evalue": "name 'quantile' is not defined",
     "output_type": "error",
     "traceback": [
      "\u001b[1;31m---------------------------------------------------------------------------\u001b[0m",
      "\u001b[1;31mNameError\u001b[0m                                 Traceback (most recent call last)",
      "\u001b[1;32m<ipython-input-21-4d9542438a7f>\u001b[0m in \u001b[0;36m<module>\u001b[1;34m()\u001b[0m\n\u001b[0;32m     26\u001b[0m \u001b[1;31m#old_pctl3 np.zeros(99)\u001b[0m\u001b[1;33m\u001b[0m\u001b[1;33m\u001b[0m\u001b[0m\n\u001b[0;32m     27\u001b[0m \u001b[1;32mfor\u001b[0m \u001b[0mi\u001b[0m \u001b[1;32min\u001b[0m \u001b[0mrange\u001b[0m\u001b[1;33m(\u001b[0m\u001b[1;36m0\u001b[0m\u001b[1;33m,\u001b[0m\u001b[1;36m99\u001b[0m\u001b[1;33m)\u001b[0m\u001b[1;33m:\u001b[0m\u001b[1;33m\u001b[0m\u001b[0m\n\u001b[1;32m---> 28\u001b[1;33m     \u001b[0mfull_pctl1\u001b[0m\u001b[1;33m[\u001b[0m\u001b[0mi\u001b[0m\u001b[1;33m]\u001b[0m \u001b[1;33m=\u001b[0m \u001b[0mquantile\u001b[0m\u001b[1;33m(\u001b[0m\u001b[0mw1\u001b[0m\u001b[1;33m.\u001b[0m\u001b[0mw_over_y\u001b[0m\u001b[1;33m,\u001b[0m \u001b[0mw1\u001b[0m\u001b[1;33m.\u001b[0m\u001b[0mXS_wgtW1_x\u001b[0m\u001b[1;33m,\u001b[0m \u001b[1;33m(\u001b[0m\u001b[0mi\u001b[0m\u001b[1;33m+\u001b[0m\u001b[1;36m1\u001b[0m\u001b[1;33m)\u001b[0m\u001b[1;33m/\u001b[0m\u001b[1;36m100.0\u001b[0m\u001b[1;33m)\u001b[0m\u001b[1;33m\u001b[0m\u001b[0m\n\u001b[0m\u001b[0;32m     29\u001b[0m     \u001b[0mfull_pctl2\u001b[0m\u001b[1;33m[\u001b[0m\u001b[0mi\u001b[0m\u001b[1;33m]\u001b[0m \u001b[1;33m=\u001b[0m \u001b[0mquantile\u001b[0m\u001b[1;33m(\u001b[0m\u001b[0mw2\u001b[0m\u001b[1;33m.\u001b[0m\u001b[0mw_over_y\u001b[0m\u001b[1;33m,\u001b[0m \u001b[0mw2\u001b[0m\u001b[1;33m.\u001b[0m\u001b[0mXS_calwgtW2_x\u001b[0m\u001b[1;33m,\u001b[0m \u001b[1;33m(\u001b[0m\u001b[0mi\u001b[0m\u001b[1;33m+\u001b[0m\u001b[1;36m1\u001b[0m\u001b[1;33m)\u001b[0m\u001b[1;33m/\u001b[0m\u001b[1;36m100.0\u001b[0m\u001b[1;33m)\u001b[0m\u001b[1;33m\u001b[0m\u001b[0m\n\u001b[0;32m     30\u001b[0m     \u001b[0mfull_pctl3\u001b[0m\u001b[1;33m[\u001b[0m\u001b[0mi\u001b[0m\u001b[1;33m]\u001b[0m \u001b[1;33m=\u001b[0m \u001b[0mquantile\u001b[0m\u001b[1;33m(\u001b[0m\u001b[0mw3\u001b[0m\u001b[1;33m.\u001b[0m\u001b[0mw_over_y\u001b[0m\u001b[1;33m,\u001b[0m \u001b[0mw3\u001b[0m\u001b[1;33m.\u001b[0m\u001b[0mw3xswgt_x\u001b[0m\u001b[1;33m,\u001b[0m \u001b[1;33m(\u001b[0m\u001b[0mi\u001b[0m\u001b[1;33m+\u001b[0m\u001b[1;36m1\u001b[0m\u001b[1;33m)\u001b[0m\u001b[1;33m/\u001b[0m\u001b[1;36m100.0\u001b[0m\u001b[1;33m)\u001b[0m\u001b[1;33m\u001b[0m\u001b[0m\n",
      "\u001b[1;31mNameError\u001b[0m: name 'quantile' is not defined"
     ]
    }
   ],
   "source": [
    "prime_age = [\"25-34\",\"35-44\",\"45-54\"]\n",
    "prime1 = (w1.ISHRPW1==\"Is the HRP\") & (w1.HRPDVAge9W1.isin(prime_age))\n",
    "prime2 = (w2.ISHRPW2==1) & (w2.HRPDVAge9W2.isin(prime_age))\n",
    "#prime3 = (w3.)\n",
    "young1 = (w1.ISHRPW1==\"Is the HRP\") & (w1.HRPDVAge9W1==\"25-34\")\n",
    "middle1 = (w1.ISHRPW1==\"Is the HRP\") & (w1.HRPDVAge9W1==\"35-44\")\n",
    "old1 = (w1.ISHRPW1==\"Is the HRP\") & (w1.HRPDVAge9W1==\"45-54\")\n",
    "young2 = (w2.ISHRPW2==1) & (w2.HRPDVAge9W2==\"25-34\")\n",
    "middle2 = (w2.ISHRPW2==1) & (w2.HRPDVAge9W2==\"35-44\")\n",
    "old2 = (w2.ISHRPW2==1) & (w2.HRPDVAge9W2==\"45-54\")\n",
    "\n",
    "full_pctl1 = np.zeros(99)\n",
    "full_pctl2 = np.zeros(99)\n",
    "full_pctl3 = np.zeros(99)\n",
    "prime_pctl1 = np.zeros(99)\n",
    "prime_pctl2 = np.zeros(99)\n",
    "#prime_pctl3 = np.zeros(99)\n",
    "young_pctl1 = np.zeros(99)\n",
    "middle_pctl1 = np.zeros(99)\n",
    "old_pctl1 = np.zeros(99)\n",
    "young_pctl2 = np.zeros(99)\n",
    "middle_pctl2 = np.zeros(99)\n",
    "old_pctl2 = np.zeros(99)\n",
    "#young_pctl3 np.zeros(99)\n",
    "#middle_pctl3 np.zeros(99)\n",
    "#old_pctl3 np.zeros(99)\n",
    "for i in range(0,99):\n",
    "    full_pctl1[i] = quantile(w1.w_over_y, w1.XS_wgtW1_x, (i+1)/100.0)\n",
    "    full_pctl2[i] = quantile(w2.w_over_y, w2.XS_calwgtW2_x, (i+1)/100.0)\n",
    "    full_pctl3[i] = quantile(w3.w_over_y, w3.w3xswgt_x, (i+1)/100.0)\n",
    "    prime_pctl1[i] = quantile(w1[prime1].w_over_y, w1[prime1].XS_wgtW1_x, (i+1)/100.0)\n",
    "    prime_pctl2[i] = quantile(w2[prime1].w_over_y, w2[prime1].XS_calwgtW2_x, (i+1)/100.0)\n",
    "    young_pctl1[i] = quantile(w1[young1].w_over_y, w1[young1].XS_wgtW1_x, (i+1)/100.0)\n",
    "    young_pctl2[i] = quantile(w2[young2].w_over_y, w2[young2].XS_calwgtW2_x, (i+1)/100.0)\n",
    "    middle_pctl1[i] = quantile(w1[middle1].w_over_y, w1[middle1].XS_wgtW1_x, (i+1)/100.0)\n",
    "    middle_pctl2[i] = quantile(w2[middle2].w_over_y, w2[middle2].XS_calwgtW2_x, (i+1)/100.0)\n",
    "    old_pctl1[i] = quantile(w1[old1].w_over_y, w1[old1].XS_wgtW1_x, (i+1)/100.0)\n",
    "    old_pctl2[i] = quantile(w2[old2].w_over_y, w2[old2].XS_calwgtW2_x, (i+1)/100.0)"
   ]
  },
  {
   "cell_type": "code",
   "execution_count": null,
   "metadata": {
    "collapsed": true
   },
   "outputs": [],
   "source": [
    "import h5py\n",
    "\n",
    "output = h5py.File('WAS_percentiles.h5', 'w')\n",
    "output.create_dataset('W1_full', data=Cov)\n",
    "output.create_dataset('Observations', data=N)\n",
    "output.close()"
   ]
  },
  {
   "cell_type": "code",
   "execution_count": null,
   "metadata": {
    "collapsed": false
   },
   "outputs": [],
   "source": [
    "fig, ax = plt.subplots(1,3, figsize=(12,8), sharey = True)\n",
    "ax[0].plot(range(1,98), young_pctl1[0:97], label = \"Wave 1\")                            \n",
    "ax[0].plot(range(1,98),young_pctl2[0:97], label = \"Wave 2\")\n",
    "ax[0].set_ylabel(\"Units of average household income\")\n",
    "ax[0].set_xlabel(\"Percentile of young sample\")\n",
    "ax[0].legend(loc=\"best\")\n",
    "ax[0].set_title(\"Age 25-34\")\n",
    "ax[1].plot(range(1,98), middle_pctl1[0:97], label = \"Wave 1\")                            \n",
    "ax[1].plot(range(1,98),middle_pctl2[0:97], label = \"Wave 2\")\n",
    "ax[1].set_ylabel(\"Units of average household income\")\n",
    "ax[1].set_xlabel(\"Percentile of middle sample\")\n",
    "ax[1].legend(loc=\"best\")\n",
    "ax[1].set_title(\"Age 35-44\")\n",
    "ax[2].plot(range(1,98), old_pctl1[0:97], label = \"Wave 1\")                            \n",
    "ax[2].plot(range(1,98),old_pctl2[0:97], label = \"Wave 2\")\n",
    "ax[2].set_ylabel(\"Units of average household income\")\n",
    "ax[2].set_xlabel(\"Percentile of old sample\")\n",
    "ax[2].legend(loc=\"best\")\n",
    "ax[2].set_title(\"Age 45-54\");"
   ]
  },
  {
   "cell_type": "code",
   "execution_count": null,
   "metadata": {
    "collapsed": false
   },
   "outputs": [],
   "source": [
    "fig, ax = plt.subplots(1,2, figsize=(12,8), sharey = True)\n",
    "ax[0].plot(range(1,98), full_pctl1[0:97], label = \"Wave 1\")                            \n",
    "ax[0].plot(range(1,98),full_pctl2[0:97], label = \"Wave 2\")\n",
    "ax[0].plot(range(1,98),full_pctl3[0:97], label = \"Wave 3\")\n",
    "ax[0].set_ylabel(\"Units of average household income\")\n",
    "ax[0].set_xlabel(\"Percentile of full sample\")\n",
    "ax[0].legend(loc=\"best\")\n",
    "ax[0].set_title(\"Full sample\")\n",
    "ax[1].plot(range(1,98), prime_pctl1[0:97], label = \"Wave 1\")\n",
    "ax[1].plot(range(1,98), prime_pctl2[0:97], label = \"Wave 2\")\n",
    "ax[1].set_xlabel(\"Percentile of prime-age sample\")\n",
    "ax[1].set_title(\"Prime-age sample\")\n",
    "ax[1].legend(loc=\"best\");"
   ]
  },
  {
   "cell_type": "code",
   "execution_count": null,
   "metadata": {
    "collapsed": false
   },
   "outputs": [],
   "source": [
    "def quantile_1D(data, weights, quantile):\n",
    "    # Check the data\n",
    "    if not isinstance(data, np.matrix) :\n",
    "        data = np.asarray(data)\n",
    "    if not isinstance(weights, np.matrix) :\n",
    "        weights = np.asarray(weights)\n",
    "    nd = data.ndim\n",
    "    if ((quantile > 1.) or (quantile < 0.)):\n",
    "        raise ValueError(\"quantile must have a value between 0. and 1.\")\n",
    "    # Sort the data\n",
    "    ind_sorted = np.argsort(data)\n",
    "    sorted_data = data[ind_sorted]\n",
    "    sorted_weights = weights[ind_sorted]\n",
    "    # Compute the auxiliary arrays\n",
    "    Sn = np.cumsum(sorted_weights)\n",
    "    Pn = (Sn-0.5*sorted_weights)/np.sum(sorted_weights)\n",
    "    # Get the value of the weighted median\n",
    "    return np.interp(quantile, Pn, sorted_data)\n",
    "\n",
    "\n",
    "def quantile(data, weights, quantile):\n",
    "    nd = data.ndim\n",
    "    if nd == 1:\n",
    "        return quantile_1D(data, weights, quantile)\n",
    "    elif nd > 1:\n",
    "        n = data.shape\n",
    "        imr = data.reshape((np.prod(n[:-1]), n[-1]))\n",
    "        result = np.apply_along_axis(quantile_1D, -1, imr, weights, quantile)\n",
    "        return result.reshape(n[:-1])"
   ]
  }
 ],
 "metadata": {
  "kernelspec": {
   "display_name": "Python 2",
   "language": "python",
   "name": "python2"
  },
  "language_info": {
   "codemirror_mode": {
    "name": "ipython",
    "version": 2
   },
   "file_extension": ".py",
   "mimetype": "text/x-python",
   "name": "python",
   "nbconvert_exporter": "python",
   "pygments_lexer": "ipython2",
   "version": "2.7.8"
  }
 },
 "nbformat": 4,
 "nbformat_minor": 0
}
